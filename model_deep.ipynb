{
 "cells": [
  {
   "cell_type": "code",
   "execution_count": 59,
   "id": "08abcb74",
   "metadata": {},
   "outputs": [],
   "source": [
    "import tensorflow as tf\n",
    "import pandas as pd\n",
    "import numpy as np\n",
    "import matplotlib.pyplot as plt\n",
    "import warnings\n",
    "\n",
    "warnings.filterwarnings(\"ignore\")"
   ]
  },
  {
   "cell_type": "markdown",
   "id": "8920b866",
   "metadata": {},
   "source": [
    "On charge le jeu de donnèes pré-traité et enregistrer dans un .csv"
   ]
  },
  {
   "cell_type": "code",
   "execution_count": 60,
   "id": "28dbb591",
   "metadata": {},
   "outputs": [],
   "source": [
    "heart = pd.read_csv(\"heart-disease-model.csv\", index_col='id')"
   ]
  },
  {
   "cell_type": "markdown",
   "id": "19500588",
   "metadata": {},
   "source": [
    "On encode les valeurs qualitattives avec un l'OrdinalEncoder de sklearn "
   ]
  },
  {
   "cell_type": "code",
   "execution_count": 61,
   "id": "a460ccc4",
   "metadata": {},
   "outputs": [],
   "source": [
    "from sklearn.preprocessing import OrdinalEncoder\n",
    "encoder = OrdinalEncoder()\n",
    "\n",
    "heart_qali = heart[[\"genre\", \"cholesterol\", \"fumeur\", \"conso_alco\", \"malade\", \"imc_result\", \"pression_arterielle\"]]\n",
    "\n",
    "\n",
    "genre = encoder.fit_transform(heart_qali[['genre', 'conso_alco', 'malade', 'fumeur']])\n",
    "\n",
    "heart_qali[[\"genre\", \"conso_alco\", \"malade\", \"fumeur\"]] = genre\n",
    "heart_qali[[\"genre\", \"conso_alco\" ,\"malade\", \"fumeur\"]] = heart_qali[[\"genre\", \"conso_alco\", \"malade\", \"fumeur\"]].astype(\"int\")\n",
    "\n",
    "heart_dummies = pd.get_dummies(heart_qali)"
   ]
  },
  {
   "cell_type": "markdown",
   "id": "cae3cbc0",
   "metadata": {},
   "source": [
    "On standardise les valeurs quantitatives avec un StandartScaler()  \n",
    "On cherche à avoir une moyenne égale à 0 et un écart type égale a 1"
   ]
  },
  {
   "cell_type": "code",
   "execution_count": 62,
   "id": "ade7aaa0",
   "metadata": {},
   "outputs": [
    {
     "data": {
      "text/html": [
       "<div>\n",
       "<style scoped>\n",
       "    .dataframe tbody tr th:only-of-type {\n",
       "        vertical-align: middle;\n",
       "    }\n",
       "\n",
       "    .dataframe tbody tr th {\n",
       "        vertical-align: top;\n",
       "    }\n",
       "\n",
       "    .dataframe thead th {\n",
       "        text-align: right;\n",
       "    }\n",
       "</style>\n",
       "<table border=\"1\" class=\"dataframe\">\n",
       "  <thead>\n",
       "    <tr style=\"text-align: right;\">\n",
       "      <th></th>\n",
       "      <th>count</th>\n",
       "      <th>mean</th>\n",
       "      <th>std</th>\n",
       "      <th>min</th>\n",
       "      <th>25%</th>\n",
       "      <th>50%</th>\n",
       "      <th>75%</th>\n",
       "      <th>max</th>\n",
       "    </tr>\n",
       "  </thead>\n",
       "  <tbody>\n",
       "    <tr>\n",
       "      <th>age</th>\n",
       "      <td>68652.0</td>\n",
       "      <td>-5.829916e-18</td>\n",
       "      <td>1.000007</td>\n",
       "      <td>-3.510250</td>\n",
       "      <td>-0.732173</td>\n",
       "      <td>0.095822</td>\n",
       "      <td>0.753681</td>\n",
       "      <td>1.721430</td>\n",
       "    </tr>\n",
       "    <tr>\n",
       "      <th>taille</th>\n",
       "      <td>68652.0</td>\n",
       "      <td>-7.325431e-16</td>\n",
       "      <td>1.000007</td>\n",
       "      <td>-13.363628</td>\n",
       "      <td>-0.655128</td>\n",
       "      <td>0.078054</td>\n",
       "      <td>0.689040</td>\n",
       "      <td>10.464809</td>\n",
       "    </tr>\n",
       "    <tr>\n",
       "      <th>Poids</th>\n",
       "      <td>68652.0</td>\n",
       "      <td>-9.919267e-17</td>\n",
       "      <td>1.000007</td>\n",
       "      <td>-4.408275</td>\n",
       "      <td>-0.636029</td>\n",
       "      <td>-0.147034</td>\n",
       "      <td>0.551531</td>\n",
       "      <td>8.794589</td>\n",
       "    </tr>\n",
       "    <tr>\n",
       "      <th>pression_diasto</th>\n",
       "      <td>68652.0</td>\n",
       "      <td>1.276896e-15</td>\n",
       "      <td>1.000007</td>\n",
       "      <td>-3.881198</td>\n",
       "      <td>-0.138704</td>\n",
       "      <td>-0.138704</td>\n",
       "      <td>0.930580</td>\n",
       "      <td>4.780003</td>\n",
       "    </tr>\n",
       "    <tr>\n",
       "      <th>pression_systo</th>\n",
       "      <td>68652.0</td>\n",
       "      <td>-3.253910e-16</td>\n",
       "      <td>1.000007</td>\n",
       "      <td>-3.416596</td>\n",
       "      <td>-0.396876</td>\n",
       "      <td>-0.396876</td>\n",
       "      <td>0.811012</td>\n",
       "      <td>5.340592</td>\n",
       "    </tr>\n",
       "    <tr>\n",
       "      <th>imc</th>\n",
       "      <td>68652.0</td>\n",
       "      <td>-4.983802e-16</td>\n",
       "      <td>1.000007</td>\n",
       "      <td>-3.976705</td>\n",
       "      <td>-0.602237</td>\n",
       "      <td>-0.193500</td>\n",
       "      <td>0.430489</td>\n",
       "      <td>44.845017</td>\n",
       "    </tr>\n",
       "    <tr>\n",
       "      <th>age_annee</th>\n",
       "      <td>68652.0</td>\n",
       "      <td>-3.031370e-16</td>\n",
       "      <td>1.000007</td>\n",
       "      <td>-3.445674</td>\n",
       "      <td>-0.786522</td>\n",
       "      <td>0.099862</td>\n",
       "      <td>0.690785</td>\n",
       "      <td>1.724899</td>\n",
       "    </tr>\n",
       "  </tbody>\n",
       "</table>\n",
       "</div>"
      ],
      "text/plain": [
       "                   count          mean       std        min       25%  \\\n",
       "age              68652.0 -5.829916e-18  1.000007  -3.510250 -0.732173   \n",
       "taille           68652.0 -7.325431e-16  1.000007 -13.363628 -0.655128   \n",
       "Poids            68652.0 -9.919267e-17  1.000007  -4.408275 -0.636029   \n",
       "pression_diasto  68652.0  1.276896e-15  1.000007  -3.881198 -0.138704   \n",
       "pression_systo   68652.0 -3.253910e-16  1.000007  -3.416596 -0.396876   \n",
       "imc              68652.0 -4.983802e-16  1.000007  -3.976705 -0.602237   \n",
       "age_annee        68652.0 -3.031370e-16  1.000007  -3.445674 -0.786522   \n",
       "\n",
       "                      50%       75%        max  \n",
       "age              0.095822  0.753681   1.721430  \n",
       "taille           0.078054  0.689040  10.464809  \n",
       "Poids           -0.147034  0.551531   8.794589  \n",
       "pression_diasto -0.138704  0.930580   4.780003  \n",
       "pression_systo  -0.396876  0.811012   5.340592  \n",
       "imc             -0.193500  0.430489  44.845017  \n",
       "age_annee        0.099862  0.690785   1.724899  "
      ]
     },
     "execution_count": 62,
     "metadata": {},
     "output_type": "execute_result"
    }
   ],
   "source": [
    "from sklearn.preprocessing import StandardScaler\n",
    "\n",
    "scaler = StandardScaler()\n",
    "\n",
    "heart_quanti = heart[[\"age\", \"taille\", \"Poids\", \"pression_diasto\", \"pression_systo\", \"imc\", \"age_annee\"]] \n",
    "\n",
    "scaler.fit(heart_quanti)\n",
    "\n",
    "heart_scaler = scaler.transform(heart_quanti)\n",
    "\n",
    "heart_scaled = pd.DataFrame(heart_scaler, columns=heart_quanti.columns)\n",
    "\n",
    "heart_scaled.describe().T"
   ]
  },
  {
   "cell_type": "markdown",
   "id": "aea06d5c",
   "metadata": {},
   "source": [
    "On sépare nos data et notre cible"
   ]
  },
  {
   "cell_type": "code",
   "execution_count": 69,
   "id": "76d5dacd",
   "metadata": {},
   "outputs": [],
   "source": [
    "from sklearn.model_selection import train_test_split\n",
    "\n",
    "target = heart_clean[\"malade\"]\n",
    "data = heart_clean.drop(\"malade\", axis=1)"
   ]
  },
  {
   "cell_type": "markdown",
   "id": "01b213a0",
   "metadata": {},
   "source": [
    "On effectue notre phase d'optimisation avec différentes configuration possible (540)"
   ]
  },
  {
   "cell_type": "code",
   "execution_count": 33,
   "id": "6e46de17",
   "metadata": {},
   "outputs": [
    {
     "name": "stdout",
     "output_type": "stream",
     "text": [
      "Fitting 5 folds for each of 30 candidates, totalling 150 fits\n"
     ]
    },
    {
     "data": {
      "text/plain": [
       "GridSearchCV(estimator=MLPClassifier(), n_jobs=-1,\n",
       "             param_grid={'activation': ['relu'], 'alpha': [0.0001],\n",
       "                         'hidden_layer_sizes': array([ 5,  6,  7,  8,  9, 10, 11, 12, 13, 14]),\n",
       "                         'max_iter': [100, 300, 600], 'solver': ['adam']},\n",
       "             verbose=True)"
      ]
     },
     "execution_count": 33,
     "metadata": {},
     "output_type": "execute_result"
    }
   ],
   "source": [
    "from sklearn.model_selection import GridSearchCV\n",
    "\n",
    "parameters = {'solver': ['adam', 'sgd', 'lbfgs'],\n",
    "              'activation': ['relu', 'logistic'],\n",
    "              'max_iter': [100, 300, 600, 1000],\n",
    "              'hidden_layer_sizes':np.arange(5, 15),\n",
    "              'alpha': [0.0001, 0.001, 0.01]}\n",
    "\n",
    "clf = GridSearchCV(MLPClassifier(), parameters, n_jobs=-1, verbose=True)\n",
    "\n",
    "clf.fit(X_train, y_train)"
   ]
  },
  {
   "cell_type": "markdown",
   "id": "80f1f514",
   "metadata": {},
   "source": [
    "Premier résultats obtenus avec le meilleur estimateurs"
   ]
  },
  {
   "cell_type": "code",
   "execution_count": null,
   "id": "1b839470",
   "metadata": {},
   "outputs": [],
   "source": [
    "print(\"Best estimator : {}\".format(clf.best_estimator_))\n",
    "print(\"Score train : {}\".format(clf.score(X_train, y_train)))\n",
    "print(\"Score test : {}\".format(clf.score(X_test, y_test)))\n",
    "print(\"Matrice de confusion :\\n  {}\".format(classification_report(y_test, clf.predict(X_test))))\n"
   ]
  },
  {
   "cell_type": "code",
   "execution_count": 36,
   "id": "575f9f65",
   "metadata": {},
   "outputs": [
    {
     "name": "stdout",
     "output_type": "stream",
     "text": [
      "MLPClassifier(hidden_layer_sizes=6, max_iter=600)\n"
     ]
    },
    {
     "data": {
      "text/plain": [
       "{'activation': 'relu',\n",
       " 'alpha': 0.0001,\n",
       " 'hidden_layer_sizes': 6,\n",
       " 'max_iter': 600,\n",
       " 'solver': 'adam'}"
      ]
     },
     "execution_count": 36,
     "metadata": {},
     "output_type": "execute_result"
    }
   ],
   "source": [
    "clf.best_params_"
   ]
  },
  {
   "cell_type": "code",
   "execution_count": 45,
   "id": "fa0a987b",
   "metadata": {},
   "outputs": [
    {
     "data": {
      "text/plain": [
       "MLPClassifier(hidden_layer_sizes=6, max_iter=600, random_state=1)"
      ]
     },
     "execution_count": 45,
     "metadata": {},
     "output_type": "execute_result"
    }
   ],
   "source": [
    "X_train, X_test, y_train, y_test = train_test_split(data, target, test_size=0.2) \n",
    "\n",
    "mlp_model = MLPClassifier(random_state=1, max_iter=600, activation=\"relu\", solver=\"adam\", hidden_layer_sizes=6)\n",
    "\n",
    "mlp_model.fit(X_train, y_train)"
   ]
  },
  {
   "cell_type": "code",
   "execution_count": 74,
   "id": "8b1d16c1",
   "metadata": {},
   "outputs": [
    {
     "name": "stdout",
     "output_type": "stream",
     "text": [
      "Score train : 0.7211645542769264\n",
      "Score test : 0.7217096192597307\n",
      "Matrice de confusion :\n",
      "                precision    recall  f1-score   support\n",
      "\n",
      "           0       0.71      0.78      0.74      4817\n",
      "           1       0.74      0.66      0.70      4612\n",
      "\n",
      "    accuracy                           0.72      9429\n",
      "   macro avg       0.72      0.72      0.72      9429\n",
      "weighted avg       0.72      0.72      0.72      9429\n",
      "\n"
     ]
    }
   ],
   "source": [
    "from sklearn.metrics import confusion_matrix, classification_report\n",
    "from IPython.display import display\n",
    "\n",
    "print(\"Score train : {}\".format(mlp_model.score(X_train, y_train)))\n",
    "print(\"Score test : {}\".format(mlp_model.score(X_test, y_test)))\n",
    "print(\"Matrice de confusion :\\n  {}\".format(classification_report(y_test, mlp_model.predict(X_test))))"
   ]
  }
 ],
 "metadata": {
  "kernelspec": {
   "display_name": "Python 3",
   "language": "python",
   "name": "python3"
  },
  "language_info": {
   "codemirror_mode": {
    "name": "ipython",
    "version": 3
   },
   "file_extension": ".py",
   "mimetype": "text/x-python",
   "name": "python",
   "nbconvert_exporter": "python",
   "pygments_lexer": "ipython3",
   "version": "3.8.8"
  }
 },
 "nbformat": 4,
 "nbformat_minor": 5
}
