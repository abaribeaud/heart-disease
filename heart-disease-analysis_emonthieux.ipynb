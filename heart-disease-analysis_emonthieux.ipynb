{
 "cells": [
  {
   "cell_type": "code",
   "execution_count": 3,
   "id": "3eb858c2",
   "metadata": {},
   "outputs": [],
   "source": [
    "# import lib\n",
    "import os\n",
    "import pandas as pd\n",
    "import warnings\n",
    "import matplotlib\n",
    "import matplotlib.pyplot as plt\n",
    "import seaborn as sns\n",
    "\n",
    "from IPython.display import display\n",
    "\n",
    "%matplotlib inline\n",
    "warnings.filterwarnings(\"ignore\")\n",
    "pd.set_option('display.max_columns', False)"
   ]
  },
  {
   "cell_type": "markdown",
   "id": "579ab92a",
   "metadata": {},
   "source": [
    "## Première exploration"
   ]
  },
  {
   "cell_type": "code",
   "execution_count": 4,
   "id": "6d9aa6d1",
   "metadata": {},
   "outputs": [],
   "source": [
    "# Load heart disease dataframe\n",
    "df_heart = pd.read_csv('maladie_cardiaque.csv', index_col=\"id\").iloc[:, 1:]"
   ]
  },
  {
   "cell_type": "markdown",
   "id": "3a784d78",
   "metadata": {},
   "source": [
    "On fait un `.describe` :  \n",
    "  \n",
    "On détecte des valeurs abberantes sur la pression systo et diasto\n",
    "  \n",
    "Il faudra donc traiter ces valeurs abberantes pas la suite"
   ]
  },
  {
   "cell_type": "markdown",
   "id": "02741ec1",
   "metadata": {},
   "source": [
    "### Valeurs abberantes  \n",
    "\n",
    "On observe pour la pression diasto et systo des valeurs abberantes, il est donc nécessaire de tenter d'en apprendre d'avantage sur ces dernières :  \n",
    "\n",
    "**Est-il possible d'avoir une tension diasto et systo de l'ordre du millier dans la vrai vie ?**  \n",
    "Les personnes ayant une pression systo et dysto, respectivement supérerieur à, 180 et 110 sont déjà en hypertension très dangereuse.\n",
    "Il est donc impossible d'aovoir une pression diastolique ou systo superiéeur à 1000 par exemple  \n",
    "  \n",
    "De la même façon, une pression négative est également impossible"
   ]
  },
  {
   "cell_type": "markdown",
   "id": "49e1d252",
   "metadata": {},
   "source": [
    "On observe très peu de valeur négative pour la pression, de plus, les valeurs absolues des pressions négatives ne semblent pas abbérante sur notre jeu de données.  \n",
    "On décide donc de les garder en les normalisant avec la fonction `.abs()`"
   ]
  },
  {
   "cell_type": "markdown",
   "id": "3ceb4283",
   "metadata": {},
   "source": [
    "Il faut ensuite détecter les valeurs abberantes \"impossible\" telle qu'une pression a 0 ou à 1000 \n",
    "On utilise la règle de détection des outputs en se basant sur l'écart inter-quartil : IQR"
   ]
  },
  {
   "cell_type": "markdown",
   "id": "e1be35bc-3882-449b-9512-4737a0e5a95d",
   "metadata": {},
   "source": [
    "# Mon travail"
   ]
  },
  {
   "cell_type": "code",
   "execution_count": 6,
   "id": "ed12779e-de21-415b-b901-331b19cabe85",
   "metadata": {},
   "outputs": [
    {
     "name": "stdout",
     "output_type": "stream",
     "text": [
      "Nombre de doublons dans le dataset : 24\n"
     ]
    }
   ],
   "source": [
    "duplicated = df_heart.duplicated().sum()\n",
    "\n",
    "if duplicated : \n",
    "    print('Nombre de doublons dans le dataset : {}'.format(duplicated))\n",
    "else :\n",
    "    print(\"Il n'y a pas de doublons\")\n",
    "\n",
    "# 24 doublons sur 70k lignes, ils sont négligeables et nous choisissons de les conserver"
   ]
  },
  {
   "cell_type": "code",
   "execution_count": 7,
   "id": "3ec74e1b-24fd-4e46-bcaf-ff2c75edc50e",
   "metadata": {},
   "outputs": [],
   "source": [
    "df_heart[\"pression_diasto\"] = df_heart[\"pression_diasto\"].abs()\n",
    "df_heart[\"pression_systo\"] = df_heart[\"pression_systo\"].abs()"
   ]
  },
  {
   "cell_type": "code",
   "execution_count": null,
   "id": "b227b85c-a1c0-476d-903a-956608071518",
   "metadata": {},
   "outputs": [],
   "source": []
  }
 ],
 "metadata": {
  "kernelspec": {
   "display_name": "Python 3",
   "language": "python",
   "name": "python3"
  },
  "language_info": {
   "codemirror_mode": {
    "name": "ipython",
    "version": 3
   },
   "file_extension": ".py",
   "mimetype": "text/x-python",
   "name": "python",
   "nbconvert_exporter": "python",
   "pygments_lexer": "ipython3",
   "version": "3.8.0"
  }
 },
 "nbformat": 4,
 "nbformat_minor": 5
}
